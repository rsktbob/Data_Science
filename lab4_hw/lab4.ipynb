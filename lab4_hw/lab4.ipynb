{
 "cells": [
  {
   "cell_type": "code",
   "execution_count": 1,
   "id": "585ccefd",
   "metadata": {},
   "outputs": [
    {
     "name": "stdout",
     "output_type": "stream",
     "text": [
      "超過1000元的股票公司數:7\n",
      "超過1000元的平均收盤價:1418.5714285714287\n",
      "股王:大立光\n"
     ]
    }
   ],
   "source": [
    "from math import isnan\n",
    "from functools import reduce\n",
    "import pandas as pd\n",
    "import numpy as np\n",
    "import requests\n",
    "\n",
    "date = \"20230327\"\n",
    "url = f'https://www.twse.com.tw/exchangeReport/MI_INDEX?response=json&date={date}&type=ALLBUT0999'\n",
    "response = requests.get(url)\n",
    "response_json = response.json()\n",
    "stock = pd.DataFrame(response_json['data9'], columns=response_json['fields9'])\n",
    "stock_price = pd.to_numeric(stock.收盤價, errors='coerce', downcast='float')\n",
    "\n",
    "stock = stock[stock_price.isnull()]\n",
    "stock = stock[stock.收盤價 != '--']\n",
    "\n",
    "average = 0\n",
    "top = 0\n",
    "count = 0\n",
    "key = 0\n",
    "for i in stock.收盤價:\n",
    "    num = float(''.join(i.split(',')))\n",
    "    average += num\n",
    "    if (top < num):\n",
    "        top = num\n",
    "        key = count\n",
    "    count += 1\n",
    "\n",
    "average /= len(stock)\n",
    "\n",
    "count = 0\n",
    "price_king = ''\n",
    "for i in stock.證券名稱:\n",
    "    if (count == key):\n",
    "        price_king = i\n",
    "    count += 1\n",
    "\n",
    "    \n",
    "print(f'超過1000元的股票公司數:{len(stock)}')\n",
    "print(f'超過1000元的平均收盤價:{average}')\n",
    "print(f'股王:{price_king}')"
   ]
  },
  {
   "cell_type": "code",
   "execution_count": null,
   "id": "fa40847f",
   "metadata": {},
   "outputs": [],
   "source": []
  }
 ],
 "metadata": {
  "kernelspec": {
   "display_name": "Python 3 (ipykernel)",
   "language": "python",
   "name": "python3"
  },
  "language_info": {
   "codemirror_mode": {
    "name": "ipython",
    "version": 3
   },
   "file_extension": ".py",
   "mimetype": "text/x-python",
   "name": "python",
   "nbconvert_exporter": "python",
   "pygments_lexer": "ipython3",
   "version": "3.10.0"
  }
 },
 "nbformat": 4,
 "nbformat_minor": 5
}
