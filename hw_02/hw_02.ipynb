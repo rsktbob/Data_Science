{
 "cells": [
  {
   "attachments": {},
   "cell_type": "markdown",
   "id": "e82c8177",
   "metadata": {},
   "source": [
    "# Data science homework 2"
   ]
  },
  {
   "attachments": {},
   "cell_type": "markdown",
   "id": "b1a23754",
   "metadata": {},
   "source": [
    "## 資工二 110590038 呂凱達"
   ]
  },
  {
   "cell_type": "code",
   "execution_count": 2,
   "id": "1f1c4800",
   "metadata": {
    "ExecuteTime": {
     "end_time": "2023-04-15T15:23:56.296090Z",
     "start_time": "2023-04-15T15:23:54.921499Z"
    }
   },
   "outputs": [],
   "source": [
    "from string import Template\n",
    "import pandas as pd\n",
    "import requests"
   ]
  },
  {
   "cell_type": "code",
   "execution_count": 3,
   "id": "28c0a268",
   "metadata": {
    "ExecuteTime": {
     "end_time": "2023-04-15T15:23:57.372877Z",
     "start_time": "2023-04-15T15:23:57.354486Z"
    }
   },
   "outputs": [],
   "source": [
    "# only keep the first 3 decimal places\n",
    "pd.set_option('display.precision', 3)"
   ]
  },
  {
   "cell_type": "code",
   "execution_count": 4,
   "id": "b82b078e",
   "metadata": {
    "ExecuteTime": {
     "end_time": "2023-04-15T15:24:00.045608Z",
     "start_time": "2023-04-15T15:23:59.062003Z"
    }
   },
   "outputs": [
    {
     "name": "stdout",
     "output_type": "stream",
     "text": [
      "<string.Template object at 0x00000163FDD21D80>\n"
     ]
    }
   ],
   "source": [
    "# get stock data from TWSE\n",
    "# provide you with a different way to format string\n",
    "url = Template('https://www.twse.com.tw/exchangeReport/MI_INDEX?response=json&date=$date&type=ALLBUT0999')\n",
    "response = requests.get(url.substitute(date='20230321'))"
   ]
  },
  {
   "cell_type": "code",
   "execution_count": 5,
   "id": "dc50a091",
   "metadata": {
    "ExecuteTime": {
     "end_time": "2023-04-15T15:24:01.521459Z",
     "start_time": "2023-04-15T15:24:01.493619Z"
    }
   },
   "outputs": [],
   "source": [
    "assert response.ok"
   ]
  },
  {
   "cell_type": "code",
   "execution_count": 6,
   "id": "f0b243a2",
   "metadata": {
    "ExecuteTime": {
     "end_time": "2023-04-15T15:24:03.045335Z",
     "start_time": "2023-04-15T15:24:03.007179Z"
    }
   },
   "outputs": [
    {
     "data": {
      "text/html": [
       "<div>\n",
       "<style scoped>\n",
       "    .dataframe tbody tr th:only-of-type {\n",
       "        vertical-align: middle;\n",
       "    }\n",
       "\n",
       "    .dataframe tbody tr th {\n",
       "        vertical-align: top;\n",
       "    }\n",
       "\n",
       "    .dataframe thead th {\n",
       "        text-align: right;\n",
       "    }\n",
       "</style>\n",
       "<table border=\"1\" class=\"dataframe\">\n",
       "  <thead>\n",
       "    <tr style=\"text-align: right;\">\n",
       "      <th></th>\n",
       "      <th>證券代號</th>\n",
       "      <th>證券名稱</th>\n",
       "      <th>成交股數</th>\n",
       "      <th>成交筆數</th>\n",
       "      <th>成交金額</th>\n",
       "      <th>開盤價</th>\n",
       "      <th>最高價</th>\n",
       "      <th>最低價</th>\n",
       "      <th>收盤價</th>\n",
       "      <th>漲跌(+/-)</th>\n",
       "      <th>漲跌價差</th>\n",
       "      <th>最後揭示買價</th>\n",
       "      <th>最後揭示買量</th>\n",
       "      <th>最後揭示賣價</th>\n",
       "      <th>最後揭示賣量</th>\n",
       "      <th>本益比</th>\n",
       "    </tr>\n",
       "  </thead>\n",
       "  <tbody>\n",
       "    <tr>\n",
       "      <th>0</th>\n",
       "      <td>0050</td>\n",
       "      <td>元大台灣50</td>\n",
       "      <td>3,732,049</td>\n",
       "      <td>5,260</td>\n",
       "      <td>442,410,377</td>\n",
       "      <td>118.50</td>\n",
       "      <td>118.75</td>\n",
       "      <td>118.20</td>\n",
       "      <td>118.65</td>\n",
       "      <td>&lt;p style= color:red&gt;+&lt;/p&gt;</td>\n",
       "      <td>0.55</td>\n",
       "      <td>118.60</td>\n",
       "      <td>59</td>\n",
       "      <td>118.65</td>\n",
       "      <td>53</td>\n",
       "      <td>0.00</td>\n",
       "    </tr>\n",
       "    <tr>\n",
       "      <th>1</th>\n",
       "      <td>0051</td>\n",
       "      <td>元大中型100</td>\n",
       "      <td>32,859</td>\n",
       "      <td>158</td>\n",
       "      <td>1,844,752</td>\n",
       "      <td>56.00</td>\n",
       "      <td>56.30</td>\n",
       "      <td>56.00</td>\n",
       "      <td>56.15</td>\n",
       "      <td>&lt;p style= color:red&gt;+&lt;/p&gt;</td>\n",
       "      <td>0.55</td>\n",
       "      <td>56.10</td>\n",
       "      <td>16</td>\n",
       "      <td>56.15</td>\n",
       "      <td>1</td>\n",
       "      <td>0.00</td>\n",
       "    </tr>\n",
       "    <tr>\n",
       "      <th>2</th>\n",
       "      <td>0052</td>\n",
       "      <td>富邦科技</td>\n",
       "      <td>159,881</td>\n",
       "      <td>211</td>\n",
       "      <td>16,946,680</td>\n",
       "      <td>106.20</td>\n",
       "      <td>106.25</td>\n",
       "      <td>105.85</td>\n",
       "      <td>106.20</td>\n",
       "      <td>&lt;p style= color:red&gt;+&lt;/p&gt;</td>\n",
       "      <td>0.55</td>\n",
       "      <td>106.20</td>\n",
       "      <td>23</td>\n",
       "      <td>106.25</td>\n",
       "      <td>5</td>\n",
       "      <td>0.00</td>\n",
       "    </tr>\n",
       "    <tr>\n",
       "      <th>3</th>\n",
       "      <td>0053</td>\n",
       "      <td>元大電子</td>\n",
       "      <td>3,980</td>\n",
       "      <td>912</td>\n",
       "      <td>234,403</td>\n",
       "      <td>59.25</td>\n",
       "      <td>59.25</td>\n",
       "      <td>59.00</td>\n",
       "      <td>59.20</td>\n",
       "      <td>&lt;p style= color:red&gt;+&lt;/p&gt;</td>\n",
       "      <td>0.25</td>\n",
       "      <td>59.05</td>\n",
       "      <td>14</td>\n",
       "      <td>59.35</td>\n",
       "      <td>2</td>\n",
       "      <td>0.00</td>\n",
       "    </tr>\n",
       "    <tr>\n",
       "      <th>4</th>\n",
       "      <td>0055</td>\n",
       "      <td>元大MSCI金融</td>\n",
       "      <td>251,918</td>\n",
       "      <td>275</td>\n",
       "      <td>5,415,931</td>\n",
       "      <td>21.44</td>\n",
       "      <td>21.60</td>\n",
       "      <td>21.38</td>\n",
       "      <td>21.46</td>\n",
       "      <td>&lt;p style= color:red&gt;+&lt;/p&gt;</td>\n",
       "      <td>0.20</td>\n",
       "      <td>21.45</td>\n",
       "      <td>10</td>\n",
       "      <td>21.47</td>\n",
       "      <td>4</td>\n",
       "      <td>0.00</td>\n",
       "    </tr>\n",
       "    <tr>\n",
       "      <th>...</th>\n",
       "      <td>...</td>\n",
       "      <td>...</td>\n",
       "      <td>...</td>\n",
       "      <td>...</td>\n",
       "      <td>...</td>\n",
       "      <td>...</td>\n",
       "      <td>...</td>\n",
       "      <td>...</td>\n",
       "      <td>...</td>\n",
       "      <td>...</td>\n",
       "      <td>...</td>\n",
       "      <td>...</td>\n",
       "      <td>...</td>\n",
       "      <td>...</td>\n",
       "      <td>...</td>\n",
       "      <td>...</td>\n",
       "    </tr>\n",
       "    <tr>\n",
       "      <th>1182</th>\n",
       "      <td>9944</td>\n",
       "      <td>新麗</td>\n",
       "      <td>121,772</td>\n",
       "      <td>112</td>\n",
       "      <td>2,471,669</td>\n",
       "      <td>20.30</td>\n",
       "      <td>20.35</td>\n",
       "      <td>20.25</td>\n",
       "      <td>20.35</td>\n",
       "      <td>&lt;p style= color:green&gt;-&lt;/p&gt;</td>\n",
       "      <td>0.05</td>\n",
       "      <td>20.30</td>\n",
       "      <td>2</td>\n",
       "      <td>20.35</td>\n",
       "      <td>10</td>\n",
       "      <td>4.18</td>\n",
       "    </tr>\n",
       "    <tr>\n",
       "      <th>1183</th>\n",
       "      <td>9945</td>\n",
       "      <td>潤泰新</td>\n",
       "      <td>21,436,400</td>\n",
       "      <td>10,660</td>\n",
       "      <td>758,382,285</td>\n",
       "      <td>34.60</td>\n",
       "      <td>36.00</td>\n",
       "      <td>34.50</td>\n",
       "      <td>35.65</td>\n",
       "      <td>&lt;p style= color:red&gt;+&lt;/p&gt;</td>\n",
       "      <td>1.35</td>\n",
       "      <td>35.60</td>\n",
       "      <td>96</td>\n",
       "      <td>35.65</td>\n",
       "      <td>153</td>\n",
       "      <td>12.29</td>\n",
       "    </tr>\n",
       "    <tr>\n",
       "      <th>1184</th>\n",
       "      <td>9946</td>\n",
       "      <td>三發地產</td>\n",
       "      <td>107,844</td>\n",
       "      <td>87</td>\n",
       "      <td>1,280,802</td>\n",
       "      <td>11.95</td>\n",
       "      <td>11.95</td>\n",
       "      <td>11.80</td>\n",
       "      <td>11.90</td>\n",
       "      <td>&lt;p&gt; &lt;/p&gt;</td>\n",
       "      <td>0.00</td>\n",
       "      <td>11.90</td>\n",
       "      <td>2</td>\n",
       "      <td>11.95</td>\n",
       "      <td>28</td>\n",
       "      <td>27.67</td>\n",
       "    </tr>\n",
       "    <tr>\n",
       "      <th>1185</th>\n",
       "      <td>9955</td>\n",
       "      <td>佳龍</td>\n",
       "      <td>8,680,623</td>\n",
       "      <td>5,015</td>\n",
       "      <td>226,719,392</td>\n",
       "      <td>25.15</td>\n",
       "      <td>26.95</td>\n",
       "      <td>24.80</td>\n",
       "      <td>26.65</td>\n",
       "      <td>&lt;p style= color:red&gt;+&lt;/p&gt;</td>\n",
       "      <td>1.15</td>\n",
       "      <td>26.60</td>\n",
       "      <td>10</td>\n",
       "      <td>26.65</td>\n",
       "      <td>19</td>\n",
       "      <td>0.00</td>\n",
       "    </tr>\n",
       "    <tr>\n",
       "      <th>1186</th>\n",
       "      <td>9958</td>\n",
       "      <td>世紀鋼</td>\n",
       "      <td>1,888,669</td>\n",
       "      <td>1,672</td>\n",
       "      <td>187,039,828</td>\n",
       "      <td>100.50</td>\n",
       "      <td>101.00</td>\n",
       "      <td>98.10</td>\n",
       "      <td>98.50</td>\n",
       "      <td>&lt;p style= color:green&gt;-&lt;/p&gt;</td>\n",
       "      <td>1.00</td>\n",
       "      <td>98.50</td>\n",
       "      <td>1</td>\n",
       "      <td>98.60</td>\n",
       "      <td>27</td>\n",
       "      <td>32.94</td>\n",
       "    </tr>\n",
       "  </tbody>\n",
       "</table>\n",
       "<p>1187 rows × 16 columns</p>\n",
       "</div>"
      ],
      "text/plain": [
       "      證券代號      證券名稱        成交股數    成交筆數         成交金額     開盤價     最高價     最低價  \\\n",
       "0     0050    元大台灣50   3,732,049   5,260  442,410,377  118.50  118.75  118.20   \n",
       "1     0051   元大中型100      32,859     158    1,844,752   56.00   56.30   56.00   \n",
       "2     0052      富邦科技     159,881     211   16,946,680  106.20  106.25  105.85   \n",
       "3     0053      元大電子       3,980     912      234,403   59.25   59.25   59.00   \n",
       "4     0055  元大MSCI金融     251,918     275    5,415,931   21.44   21.60   21.38   \n",
       "...    ...       ...         ...     ...          ...     ...     ...     ...   \n",
       "1182  9944        新麗     121,772     112    2,471,669   20.30   20.35   20.25   \n",
       "1183  9945       潤泰新  21,436,400  10,660  758,382,285   34.60   36.00   34.50   \n",
       "1184  9946      三發地產     107,844      87    1,280,802   11.95   11.95   11.80   \n",
       "1185  9955        佳龍   8,680,623   5,015  226,719,392   25.15   26.95   24.80   \n",
       "1186  9958       世紀鋼   1,888,669   1,672  187,039,828  100.50  101.00   98.10   \n",
       "\n",
       "         收盤價                      漲跌(+/-)  漲跌價差  最後揭示買價 最後揭示買量  最後揭示賣價 最後揭示賣量  \\\n",
       "0     118.65    <p style= color:red>+</p>  0.55  118.60     59  118.65     53   \n",
       "1      56.15    <p style= color:red>+</p>  0.55   56.10     16   56.15      1   \n",
       "2     106.20    <p style= color:red>+</p>  0.55  106.20     23  106.25      5   \n",
       "3      59.20    <p style= color:red>+</p>  0.25   59.05     14   59.35      2   \n",
       "4      21.46    <p style= color:red>+</p>  0.20   21.45     10   21.47      4   \n",
       "...      ...                          ...   ...     ...    ...     ...    ...   \n",
       "1182   20.35  <p style= color:green>-</p>  0.05   20.30      2   20.35     10   \n",
       "1183   35.65    <p style= color:red>+</p>  1.35   35.60     96   35.65    153   \n",
       "1184   11.90                     <p> </p>  0.00   11.90      2   11.95     28   \n",
       "1185   26.65    <p style= color:red>+</p>  1.15   26.60     10   26.65     19   \n",
       "1186   98.50  <p style= color:green>-</p>  1.00   98.50      1   98.60     27   \n",
       "\n",
       "        本益比  \n",
       "0      0.00  \n",
       "1      0.00  \n",
       "2      0.00  \n",
       "3      0.00  \n",
       "4      0.00  \n",
       "...     ...  \n",
       "1182   4.18  \n",
       "1183  12.29  \n",
       "1184  27.67  \n",
       "1185   0.00  \n",
       "1186  32.94  \n",
       "\n",
       "[1187 rows x 16 columns]"
      ]
     },
     "execution_count": 6,
     "metadata": {},
     "output_type": "execute_result"
    }
   ],
   "source": [
    "stocks = pd.DataFrame(\n",
    "response.json()['data9'],\n",
    "columns=response.json()['fields9'],\n",
    ")\n",
    "stocks"
   ]
  },
  {
   "cell_type": "code",
   "execution_count": 7,
   "id": "03705692",
   "metadata": {
    "ExecuteTime": {
     "end_time": "2023-04-15T15:24:06.237990Z",
     "start_time": "2023-04-15T15:24:06.200189Z"
    }
   },
   "outputs": [],
   "source": [
    "features = ['開盤價', '收盤價'] # target features\n",
    "stocks = stocks[features].copy() # copy() to avoid SettingWithCopyWarning"
   ]
  },
  {
   "cell_type": "code",
   "execution_count": 8,
   "id": "e4dab075",
   "metadata": {},
   "outputs": [
    {
     "ename": "AssertionError",
     "evalue": "",
     "output_type": "error",
     "traceback": [
      "\u001b[1;31m---------------------------------------------------------------------------\u001b[0m",
      "\u001b[1;31mAssertionError\u001b[0m                            Traceback (most recent call last)",
      "\u001b[1;32mc:\\Users\\bob10\\資料科學導論\\hw_02\\Data science homework 2 資工二 110590038 呂凱達.ipynb Cell 7\u001b[0m in \u001b[0;36m9\n\u001b[0;32m      <a href='vscode-notebook-cell:/c%3A/Users/bob10/%E8%B3%87%E6%96%99%E7%A7%91%E5%AD%B8%E5%B0%8E%E8%AB%96/hw_02/Data%20science%20homework%202%20%E8%B3%87%E5%B7%A5%E4%BA%8C%20110590038%20%E5%91%82%E5%87%B1%E9%81%94.ipynb#W6sZmlsZQ%3D%3D?line=4'>5</a>\u001b[0m         \u001b[39mreturn\u001b[39;00m \u001b[39mFalse\u001b[39;00m\n\u001b[0;32m      <a href='vscode-notebook-cell:/c%3A/Users/bob10/%E8%B3%87%E6%96%99%E7%A7%91%E5%AD%B8%E5%B0%8E%E8%AB%96/hw_02/Data%20science%20homework%202%20%E8%B3%87%E5%B7%A5%E4%BA%8C%20110590038%20%E5%91%82%E5%87%B1%E9%81%94.ipynb#W6sZmlsZQ%3D%3D?line=5'>6</a>\u001b[0m     \u001b[39mreturn\u001b[39;00m \u001b[39mTrue\u001b[39;00m\n\u001b[1;32m----> <a href='vscode-notebook-cell:/c%3A/Users/bob10/%E8%B3%87%E6%96%99%E7%A7%91%E5%AD%B8%E5%B0%8E%E8%AB%96/hw_02/Data%20science%20homework%202%20%E8%B3%87%E5%B7%A5%E4%BA%8C%20110590038%20%E5%91%82%E5%87%B1%E9%81%94.ipynb#W6sZmlsZQ%3D%3D?line=8'>9</a>\u001b[0m \u001b[39massert\u001b[39;00m stocks\u001b[39m.\u001b[39mapplymap(is_float_convertible)\u001b[39m.\u001b[39mall(axis\u001b[39m=\u001b[39m\u001b[39mNone\u001b[39;00m)\n",
      "\u001b[1;31mAssertionError\u001b[0m: "
     ]
    }
   ],
   "source": [
    "def is_float_convertible(value: str) -> bool:\n",
    "    try:\n",
    "        value = float(value)\n",
    "    except:\n",
    "        return False\n",
    "    return True\n",
    "\n",
    "\n",
    "assert stocks.applymap(is_float_convertible).all(axis=None)"
   ]
  },
  {
   "cell_type": "code",
   "execution_count": 9,
   "id": "bf9c72dd",
   "metadata": {},
   "outputs": [
    {
     "name": "stdout",
     "output_type": "stream",
     "text": [
      "problem_values={'1,105.00', '1,250.00', '1,275.00', '2,280.00', '1,125.00', '1,290.00', '--', '1,190.00', '1,635.00', '1,170.00', '1,150.00', '2,255.00', '1,685.00'}\n"
     ]
    }
   ],
   "source": [
    "def display_float_unconvertible_values(data: pd.DataFrame) -> None:\n",
    "    \"\"\"Display the values that are not able to convert to float.\"\"\"\n",
    "    problem_values = set()\n",
    "    for _, values in data.select_dtypes(exclude='number').items():\n",
    "        problem_values.update(\n",
    "            values[~values.apply(is_float_convertible)].unique())\n",
    "        \n",
    "    print(f'{problem_values=}')\n",
    "\n",
    "display_float_unconvertible_values(stocks)"
   ]
  },
  {
   "cell_type": "code",
   "execution_count": 10,
   "id": "ff4c388b",
   "metadata": {},
   "outputs": [],
   "source": [
    "# fix values not able to convert to float\n",
    "# TODO: handle '--'\n",
    "\n",
    "check = []\n",
    "\n",
    "for i in stocks.index:\n",
    "    if stocks.開盤價[i] != '--':\n",
    "        check.append(i)\n",
    "\n",
    "stocks = stocks.loc[check].copy()\n",
    "\n",
    "\n",
    "# TODO: handle thousands separators\n",
    "# ...\n",
    "\n",
    "for i in stocks.index:\n",
    "    stocks.開盤價[i] = stocks.開盤價[i].replace(',', '')\n",
    "    stocks.收盤價[i] = stocks.收盤價[i].replace(',', '')\n"
   ]
  },
  {
   "cell_type": "code",
   "execution_count": 11,
   "id": "1befb1b0",
   "metadata": {},
   "outputs": [],
   "source": [
    "stocks.開盤價 = pd.to_numeric(stocks.開盤價)\n",
    "stocks.收盤價 = pd.to_numeric(stocks.收盤價)"
   ]
  },
  {
   "cell_type": "code",
   "execution_count": 12,
   "id": "47a62d35",
   "metadata": {},
   "outputs": [
    {
     "data": {
      "text/html": [
       "<div>\n",
       "<style scoped>\n",
       "    .dataframe tbody tr th:only-of-type {\n",
       "        vertical-align: middle;\n",
       "    }\n",
       "\n",
       "    .dataframe tbody tr th {\n",
       "        vertical-align: top;\n",
       "    }\n",
       "\n",
       "    .dataframe thead th {\n",
       "        text-align: right;\n",
       "    }\n",
       "</style>\n",
       "<table border=\"1\" class=\"dataframe\">\n",
       "  <thead>\n",
       "    <tr style=\"text-align: right;\">\n",
       "      <th></th>\n",
       "      <th>開盤價</th>\n",
       "      <th>收盤價</th>\n",
       "    </tr>\n",
       "  </thead>\n",
       "  <tbody>\n",
       "    <tr>\n",
       "      <th>mean</th>\n",
       "      <td>66.519</td>\n",
       "      <td>66.400</td>\n",
       "    </tr>\n",
       "    <tr>\n",
       "      <th>std</th>\n",
       "      <td>137.063</td>\n",
       "      <td>135.987</td>\n",
       "    </tr>\n",
       "  </tbody>\n",
       "</table>\n",
       "</div>"
      ],
      "text/plain": [
       "          開盤價      收盤價\n",
       "mean   66.519   66.400\n",
       "std   137.063  135.987"
      ]
     },
     "execution_count": 12,
     "metadata": {},
     "output_type": "execute_result"
    }
   ],
   "source": [
    "stocks[features].describe().loc[['mean', 'std']]"
   ]
  },
  {
   "cell_type": "code",
   "execution_count": 22,
   "id": "b114332c",
   "metadata": {},
   "outputs": [
    {
     "name": "stdout",
     "output_type": "stream",
     "text": [
      "<img alt=\"\" class=\"captcha__logo\" src=\"data:image/png;base64,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\"/>\n",
      "<img alt=\"\" class=\"content__dgirl\" src=\"data:image/png;base64,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\"/>\n",
      "<img alt=\"\" class=\"content__talk\" src=\"data:image/svg+xml;base64,PHN2ZyB3aWR0aD0iMjUiIGhlaWdodD0iMjMiIGZpbGw9Im5vbmUiIHhtbG5zPSJodHRwOi8vd3d3LnczLm9yZy8yMDAwL3N2ZyI+PGcgY2xpcC1wYXRoPSJ1cmwoI2EpIj48cGF0aCBkPSJNMjQgMjJDOC41NDQgMjEuNjcxIDIuMjI3IDYuNTMgMS0xaDIwLjdjLTMuNjggOS41MjkgMCAxOS4zMDQgMi4zIDIzeiIgZmlsbD0iI2ZmZiIgc3Ryb2tlPSIjMDAwIiBzdHJva2Utd2lkdGg9IjEuMDgiLz48L2c+PGRlZnM+PGNsaXBQYXRoIGlkPSJhIj48cGF0aCBmaWxsPSIjZmZmIiBkPSJNMCAwaDI1djIzSDB6Ii8+PC9jbGlwUGF0aD48L2RlZnM+PC9zdmc+\"/>\n",
      "<img alt=\"\" class=\"content__alert__icon\" src=\"data:image/svg+xml;base64,PHN2ZyB3aWR0aD0iMjYiIGhlaWdodD0iMjMiIGZpbGw9Im5vbmUiIHhtbG5zPSJodHRwOi8vd3d3LnczLm9yZy8yMDAwL3N2ZyI+PHBhdGggZD0iTTEwLjQzNCAxLjQ2Mi40MDIgMTguNjEyQy0uNzQgMjAuNTYzLjY4NyAyMyAyLjk2NiAyM2gyMC4wNjhjMi4yOCAwIDMuNzA2LTIuNDM3IDIuNTY0LTQuMzg3TDE1LjU2NiAxLjQ2M2MtMS4xNDItMS45NS0zLjk5LTEuOTUtNS4xMzIgMHoiIGZpbGw9IiM5QjlCOUIiLz48cGF0aCBkPSJNMTMuOTk1IDE3LjM1N2MuMjUzLjI1LjM5NS41NjYuMzk1Ljk1NnMtLjE0My43MjUtLjM5NS45NzVjLS4yODkuMjUtLjYwOS4zNy0xLjAwNC4zN3MtLjcxOS0uMTQtLjk2OC0uMzljLS4yODgtLjI1LS40MS0uNTY1LS40MS0uOTU1cy4xMjYtLjcxLjQxLS45NTZjLjI1My0uMjUuNTczLS4zNy45NjgtLjM3cy43MzUuMTI1IDEuMDA0LjM3em0uMTgxLTkuNjQtLjM4MyA3LjY3OWEuNjczLjY3MyAwIDAgMS0uNjc1LjYzNWgtLjIzOGMtLjM2IDAtLjY2LS4yOC0uNjc1LS42MzVsLS4zODMtNy42NzlhLjY3MS42NzEgMCAwIDEgLjY3NS0uNzAyaDFjLjM4NyAwIC42OTUuMzIuNjc1LjcwMmguMDA0eiIgZmlsbD0iI2ZmZiIvPjwvc3ZnPg==\"/>\n"
     ]
    }
   ],
   "source": [
    "import requests\n",
    "import pandas as pd\n",
    "from bs4 import BeautifulSoup\n",
    "\n",
    "url = 'https://forum.gamer.com.tw/C.php?bsn=45439&snA=1498&tnum=1'\n",
    "response = requests.get(url)\n",
    "content = response.content\n",
    "\n",
    "soup = BeautifulSoup(content, \"html.parser\")\n",
    "\n",
    "for img_tag in soup.find_all(\"img\"):\n",
    "    print(img_tag)"
   ]
  }
 ],
 "metadata": {
  "kernelspec": {
   "display_name": "Python 3 (ipykernel)",
   "language": "python",
   "name": "python3"
  },
  "language_info": {
   "codemirror_mode": {
    "name": "ipython",
    "version": 3
   },
   "file_extension": ".py",
   "mimetype": "text/x-python",
   "name": "python",
   "nbconvert_exporter": "python",
   "pygments_lexer": "ipython3",
   "version": "3.10.0"
  }
 },
 "nbformat": 4,
 "nbformat_minor": 5
}
