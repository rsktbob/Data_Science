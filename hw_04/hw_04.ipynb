{
 "cells": [
  {
   "cell_type": "markdown",
   "metadata": {},
   "source": [
    "## 作業三 (due 5/2/2023)\n",
    "\n",
    "\n",
    "## 1. 請計算　台積電、聯發科和聯電　2022年的股價平均值?\n",
    "\n",
    "## 2. 請分析2022/1/1-2022/12/31期間與台積電絕對值相關度排行第10名的股票是哪一支股票？劃出這兩支股票的股價圖表 (圖表必須包含圖例、座標軸名稱、標題、大小為(7,7))"
   ]
  },
  {
   "cell_type": "code",
   "execution_count": 1,
   "metadata": {},
   "outputs": [],
   "source": [
    "import pandas as pd\n",
    "import numpy as np"
   ]
  },
  {
   "cell_type": "code",
   "execution_count": 2,
   "metadata": {},
   "outputs": [],
   "source": [
    "#第一題\n",
    "#參考lab5\n",
    "data = pd.read_csv('./data_science_data.csv',index_col=0)\n",
    "#提取資料\n",
    "data = data[['date','證券名稱','收盤價']]\n",
    "#更改名字\n",
    "data = data.rename(columns = {'證券名稱':'name'})\n",
    "data = data.rename(columns = {'收盤價':'closing_price'})\n",
    "#清理資料\n",
    "data['closing_price'] = data['closing_price'].replace({'\\$':'', ',':'', '--':np.nan}, regex=True)\n",
    "data = data.dropna()\n",
    "#更改資料型態\n",
    "data['closing_price'] = data['closing_price'].astype('float64')\n",
    "data['date'] = pd.to_datetime(data['date'])"
   ]
  },
  {
   "cell_type": "code",
   "execution_count": 3,
   "metadata": {},
   "outputs": [
    {
     "name": "stdout",
     "output_type": "stream",
     "text": [
      "台積電股價\n"
     ]
    },
    {
     "name": "stderr",
     "output_type": "stream",
     "text": [
      "C:\\Users\\bob10\\AppData\\Local\\Temp\\ipykernel_8748\\58771807.py:8: FutureWarning: DataFrame.mean and DataFrame.median with numeric_only=None will include datetime64 and datetime64tz columns in a future version.\n",
      "  display(data_TSMC.mean())\n",
      "C:\\Users\\bob10\\AppData\\Local\\Temp\\ipykernel_8748\\58771807.py:8: FutureWarning: The default value of numeric_only in DataFrame.mean is deprecated. In a future version, it will default to False. In addition, specifying 'numeric_only=None' is deprecated. Select only valid columns or specify the value of numeric_only to silence this warning.\n",
      "  display(data_TSMC.mean())\n"
     ]
    },
    {
     "data": {
      "text/plain": [
       "closing_price    516.206122\n",
       "dtype: float64"
      ]
     },
     "metadata": {},
     "output_type": "display_data"
    },
    {
     "name": "stdout",
     "output_type": "stream",
     "text": [
      "聯發科股價\n"
     ]
    },
    {
     "name": "stderr",
     "output_type": "stream",
     "text": [
      "C:\\Users\\bob10\\AppData\\Local\\Temp\\ipykernel_8748\\58771807.py:10: FutureWarning: DataFrame.mean and DataFrame.median with numeric_only=None will include datetime64 and datetime64tz columns in a future version.\n",
      "  display(data_MTK.mean())\n",
      "C:\\Users\\bob10\\AppData\\Local\\Temp\\ipykernel_8748\\58771807.py:10: FutureWarning: The default value of numeric_only in DataFrame.mean is deprecated. In a future version, it will default to False. In addition, specifying 'numeric_only=None' is deprecated. Select only valid columns or specify the value of numeric_only to silence this warning.\n",
      "  display(data_MTK.mean())\n"
     ]
    },
    {
     "data": {
      "text/plain": [
       "closing_price    787.293878\n",
       "dtype: float64"
      ]
     },
     "metadata": {},
     "output_type": "display_data"
    },
    {
     "name": "stdout",
     "output_type": "stream",
     "text": [
      "聯電股價\n"
     ]
    },
    {
     "name": "stderr",
     "output_type": "stream",
     "text": [
      "C:\\Users\\bob10\\AppData\\Local\\Temp\\ipykernel_8748\\58771807.py:12: FutureWarning: DataFrame.mean and DataFrame.median with numeric_only=None will include datetime64 and datetime64tz columns in a future version.\n",
      "  display(data_UMC.mean())\n",
      "C:\\Users\\bob10\\AppData\\Local\\Temp\\ipykernel_8748\\58771807.py:12: FutureWarning: The default value of numeric_only in DataFrame.mean is deprecated. In a future version, it will default to False. In addition, specifying 'numeric_only=None' is deprecated. Select only valid columns or specify the value of numeric_only to silence this warning.\n",
      "  display(data_UMC.mean())\n"
     ]
    },
    {
     "data": {
      "text/plain": [
       "closing_price    46.193469\n",
       "dtype: float64"
      ]
     },
     "metadata": {},
     "output_type": "display_data"
    }
   ],
   "source": [
    "#分組\n",
    "data_group = data.groupby('name')\n",
    "data_TSMC = data_group.get_group('台積電')\n",
    "data_MTK = data_group.get_group('聯發科')\n",
    "data_UMC = data_group.get_group('聯電')\n",
    "#第一題印出\n",
    "print('台積電股價')\n",
    "display(data_TSMC.mean())\n",
    "print('聯發科股價')\n",
    "display(data_MTK.mean())\n",
    "print('聯電股價')\n",
    "display(data_UMC.mean())"
   ]
  },
  {
   "cell_type": "code",
   "execution_count": 4,
   "metadata": {},
   "outputs": [],
   "source": [
    "data_TSMC = data[data['name']=='台積電'].reset_index(drop=True)"
   ]
  },
  {
   "cell_type": "code",
   "execution_count": 5,
   "metadata": {},
   "outputs": [
    {
     "data": {
      "text/html": [
       "<div>\n",
       "<style scoped>\n",
       "    .dataframe tbody tr th:only-of-type {\n",
       "        vertical-align: middle;\n",
       "    }\n",
       "\n",
       "    .dataframe tbody tr th {\n",
       "        vertical-align: top;\n",
       "    }\n",
       "\n",
       "    .dataframe thead th {\n",
       "        text-align: right;\n",
       "    }\n",
       "</style>\n",
       "<table border=\"1\" class=\"dataframe\">\n",
       "  <thead>\n",
       "    <tr style=\"text-align: right;\">\n",
       "      <th></th>\n",
       "      <th>date</th>\n",
       "      <th>name</th>\n",
       "      <th>closing_price</th>\n",
       "    </tr>\n",
       "  </thead>\n",
       "  <tbody>\n",
       "    <tr>\n",
       "      <th>0</th>\n",
       "      <td>2022-01-03</td>\n",
       "      <td>台積電</td>\n",
       "      <td>631.0</td>\n",
       "    </tr>\n",
       "    <tr>\n",
       "      <th>1</th>\n",
       "      <td>2022-01-04</td>\n",
       "      <td>台積電</td>\n",
       "      <td>656.0</td>\n",
       "    </tr>\n",
       "    <tr>\n",
       "      <th>2</th>\n",
       "      <td>2022-01-05</td>\n",
       "      <td>台積電</td>\n",
       "      <td>650.0</td>\n",
       "    </tr>\n",
       "    <tr>\n",
       "      <th>3</th>\n",
       "      <td>2022-01-06</td>\n",
       "      <td>台積電</td>\n",
       "      <td>644.0</td>\n",
       "    </tr>\n",
       "    <tr>\n",
       "      <th>4</th>\n",
       "      <td>2022-01-07</td>\n",
       "      <td>台積電</td>\n",
       "      <td>634.0</td>\n",
       "    </tr>\n",
       "    <tr>\n",
       "      <th>...</th>\n",
       "      <td>...</td>\n",
       "      <td>...</td>\n",
       "      <td>...</td>\n",
       "    </tr>\n",
       "    <tr>\n",
       "      <th>240</th>\n",
       "      <td>2022-12-26</td>\n",
       "      <td>台積電</td>\n",
       "      <td>456.5</td>\n",
       "    </tr>\n",
       "    <tr>\n",
       "      <th>241</th>\n",
       "      <td>2022-12-27</td>\n",
       "      <td>台積電</td>\n",
       "      <td>457.0</td>\n",
       "    </tr>\n",
       "    <tr>\n",
       "      <th>242</th>\n",
       "      <td>2022-12-28</td>\n",
       "      <td>台積電</td>\n",
       "      <td>451.0</td>\n",
       "    </tr>\n",
       "    <tr>\n",
       "      <th>243</th>\n",
       "      <td>2022-12-29</td>\n",
       "      <td>台積電</td>\n",
       "      <td>446.0</td>\n",
       "    </tr>\n",
       "    <tr>\n",
       "      <th>244</th>\n",
       "      <td>2022-12-30</td>\n",
       "      <td>台積電</td>\n",
       "      <td>448.5</td>\n",
       "    </tr>\n",
       "  </tbody>\n",
       "</table>\n",
       "<p>245 rows × 3 columns</p>\n",
       "</div>"
      ],
      "text/plain": [
       "          date name  closing_price\n",
       "0   2022-01-03  台積電          631.0\n",
       "1   2022-01-04  台積電          656.0\n",
       "2   2022-01-05  台積電          650.0\n",
       "3   2022-01-06  台積電          644.0\n",
       "4   2022-01-07  台積電          634.0\n",
       "..         ...  ...            ...\n",
       "240 2022-12-26  台積電          456.5\n",
       "241 2022-12-27  台積電          457.0\n",
       "242 2022-12-28  台積電          451.0\n",
       "243 2022-12-29  台積電          446.0\n",
       "244 2022-12-30  台積電          448.5\n",
       "\n",
       "[245 rows x 3 columns]"
      ]
     },
     "metadata": {},
     "output_type": "display_data"
    }
   ],
   "source": [
    "display(data_TSMC)"
   ]
  },
  {
   "cell_type": "code",
   "execution_count": 6,
   "metadata": {},
   "outputs": [],
   "source": [
    "#第二題\n",
    "#製作一個新的dataframe去接資料\n",
    "data_TSMC_corr_company = pd.DataFrame()\n",
    "#製作所有公司的list，方法 : 將data的name這個columns刪除重複項\n",
    "companies = data['name'].drop_duplicates()\n",
    "data_TSMC_corr_company['company'] = companies\n",
    "data_TSMC_corr_company['corr'] = 0\n",
    "\n",
    "#利用apply遍歷所有公司\n",
    "def get_corr(x):\n",
    "    data_company = data[data['name']==x].reset_index(drop=True)\n",
    "    return abs(data_TSMC['closing_price'].corr(data_company['closing_price']))                                 \n",
    "data_TSMC_corr_company['corr'] = data_TSMC_corr_company['company'].apply(get_corr)"
   ]
  },
  {
   "cell_type": "code",
   "execution_count": 7,
   "metadata": {},
   "outputs": [
    {
     "data": {
      "text/plain": [
       "company    國泰臺灣加權正2\n",
       "corr       0.984278\n",
       "Name: 47, dtype: object"
      ]
     },
     "metadata": {},
     "output_type": "display_data"
    }
   ],
   "source": [
    "#排序過後的相關度dataframe\n",
    "data_TSMC_corr_company = data_TSMC_corr_company.sort_values('corr',ascending = False)\n",
    "display(data_TSMC_corr_company.iloc[9])"
   ]
  },
  {
   "cell_type": "code",
   "execution_count": 8,
   "metadata": {},
   "outputs": [],
   "source": [
    "data_CDT = data[data['name']=='國泰臺灣加權正2'].reset_index(drop=True)\n",
    "data_TSMC_CDT = pd.merge(data_TSMC[['date','closing_price']],data_CDT[['date','closing_price']],on='date',suffixes=('_TSMC', '_CDT')).set_index('date')"
   ]
  },
  {
   "cell_type": "code",
   "execution_count": 9,
   "metadata": {},
   "outputs": [],
   "source": [
    "import matplotlib.pyplot as plt"
   ]
  },
  {
   "cell_type": "code",
   "execution_count": 10,
   "metadata": {},
   "outputs": [
    {
     "data": {
      "image/png": "[encoded data removed]",
      "text/plain": [
       "<Figure size 700x700 with 1 Axes>"
      ]
     },
     "metadata": {},
     "output_type": "display_data"
    }
   ],
   "source": [
    "plt.figure(figsize=(7,7))\n",
    "plt.plot(data_TSMC_CDT['closing_price_TSMC'],label='TSMC')\n",
    "plt.plot(data_TSMC_CDT['closing_price_CDT'],label='CDT')\n",
    "plt.legend(loc='best')\n",
    "#x坐標軸\n",
    "plt.xlabel(\"date\")\n",
    "#y坐標軸\n",
    "plt.ylabel(\"closing_price\")\n",
    "#標題\n",
    "plt.title(\"closing_price_graph\")\n",
    "plt.show()"
   ]
  }
 ],
 "metadata": {
  "kernelspec": {
   "display_name": "Python 3 (ipykernel)",
   "language": "python",
   "name": "python3"
  },
  "language_info": {
   "codemirror_mode": {
    "name": "ipython",
    "version": 3
   },
   "file_extension": ".py",
   "mimetype": "text/x-python",
   "name": "python",
   "nbconvert_exporter": "python",
   "pygments_lexer": "ipython3",
   "version": "3.10.0"
  }
 },
 "nbformat": 4,
 "nbformat_minor": 2
}
