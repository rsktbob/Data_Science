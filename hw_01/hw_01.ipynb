{
 "cells": [
  {
   "cell_type": "markdown",
   "id": "4988704d",
   "metadata": {},
   "source": [
    "# Data science homework 1  "
   ]
  },
  {
   "cell_type": "markdown",
   "id": "00af82a0",
   "metadata": {},
   "source": [
    "## 資工二 110590038 呂凱達"
   ]
  },
  {
   "cell_type": "code",
   "execution_count": 2,
   "id": "e2cb09e6",
   "metadata": {
    "ExecuteTime": {
     "end_time": "2023-04-14T07:38:13.194072Z",
     "start_time": "2023-04-14T07:38:13.176671Z"
    }
   },
   "outputs": [],
   "source": [
    "from typing import List\n",
    "import matplotlib.pyplot as plt\n",
    "import pandas as pd\n",
    "import pytest"
   ]
  },
  {
   "cell_type": "code",
   "execution_count": 3,
   "id": "e6170e4f",
   "metadata": {},
   "outputs": [],
   "source": [
    "# # $  \\displaystyle {For \\, i = 1,2, \\ldots ,N \\, compute \\, r_{im} \n",
    "# = {-\\Bigg [\\frac {\\partial L(y_i, f(x_i)} {\\partial f(x_i)} \\Bigg ]}_{f=f_{m-1}}} $"
   ]
  },
  {
   "cell_type": "markdown",
   "id": "9486ed99",
   "metadata": {},
   "source": [
    "# $  \\displaystyle {For \\, i = 1,2, \\ldots ,N \\, compute \\, r_{im} = {-\\Bigg [\\frac {\\partial L(y_i, f(x_i)} {\\partial f(x_i)} \\Bigg ]}_{f=f_{m-1}}} $"
   ]
  },
  {
   "cell_type": "code",
   "execution_count": null,
   "id": "bbeee50a",
   "metadata": {},
   "outputs": [],
   "source": []
  },
  {
   "cell_type": "code",
   "execution_count": 2,
   "id": "29ba07b3",
   "metadata": {
    "ExecuteTime": {
     "end_time": "2023-04-14T07:38:15.216590Z",
     "start_time": "2023-04-14T07:38:15.170447Z"
    }
   },
   "outputs": [],
   "source": [
    "def factorial(n:int)->int:\n",
    "    \"\"\"\n",
    "    Return the factorial of n.    Raises:        ValueError: if n is negative.    \n",
    "    \"\"\"\n",
    "    if n < 0:\n",
    "        raise ValueError\n",
    "    elif n == 0 or n == 1:\n",
    "        return 1\n",
    "    return factorial(n-1)*n\n",
    "        \n",
    "    \n",
    "assert factorial(0)==1\n",
    "assert factorial(1)==1\n",
    "assert factorial(2)==2\n",
    "assert factorial(3)==6\n",
    "assert factorial(4)==24\n",
    "assert factorial(5)==120\n",
    "\n",
    "with pytest.raises(ValueError):factorial(-1)"
   ]
  },
  {
   "cell_type": "code",
   "execution_count": null,
   "id": "02f3efeb",
   "metadata": {},
   "outputs": [],
   "source": []
  },
  {
   "cell_type": "code",
   "execution_count": 7,
   "id": "e73cfe1b",
   "metadata": {
    "ExecuteTime": {
     "end_time": "2023-04-14T07:38:18.570457Z",
     "start_time": "2023-04-14T07:38:18.241642Z"
    }
   },
   "outputs": [
    {
     "data": {
      "image/png": "[encoded data removed]",
      "text/plain": [
       "<Figure size 640x480 with 1 Axes>"
      ]
     },
     "metadata": {},
     "output_type": "display_data"
    }
   ],
   "source": [
    "arr = [14.7, 14.4, 8.2, 10.7, 14.6, 14.1, 14.4, 14.4, 18.2, 14.5, 14.5, 14.7, 14.9, 15.1, 15.9, 25.0]\n",
    "boxplot = plt.boxplot(arr)"
   ]
  }
 ],
 "metadata": {
  "kernelspec": {
   "display_name": "Python 3 (ipykernel)",
   "language": "python",
   "name": "python3"
  },
  "language_info": {
   "codemirror_mode": {
    "name": "ipython",
    "version": 3
   },
   "file_extension": ".py",
   "mimetype": "text/x-python",
   "name": "python",
   "nbconvert_exporter": "python",
   "pygments_lexer": "ipython3",
   "version": "3.10.0"
  }
 },
 "nbformat": 4,
 "nbformat_minor": 5
}
